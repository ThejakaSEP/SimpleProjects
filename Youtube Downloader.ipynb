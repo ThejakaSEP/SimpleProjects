{
 "cells": [
  {
   "cell_type": "code",
   "execution_count": 2,
   "id": "c406aac1",
   "metadata": {},
   "outputs": [
    {
     "name": "stdout",
     "output_type": "stream",
     "text": [
      "Collecting pytube\n",
      "  Downloading pytube-10.9.2-py3-none-any.whl (54 kB)\n",
      "\u001b[K     |████████████████████████████████| 54 kB 277 kB/s eta 0:00:01\n",
      "\u001b[?25hInstalling collected packages: pytube\n",
      "Successfully installed pytube-10.9.2\n",
      "Note: you may need to restart the kernel to use updated packages.\n"
     ]
    }
   ],
   "source": [
    "pip install pytube"
   ]
  },
  {
   "cell_type": "code",
   "execution_count": 3,
   "id": "ef79d668",
   "metadata": {},
   "outputs": [],
   "source": [
    "from pytube import YouTube"
   ]
  },
  {
   "cell_type": "code",
   "execution_count": 9,
   "id": "85d1346d",
   "metadata": {},
   "outputs": [],
   "source": [
    "Save_Path = \"/Users/thejakamahaulpatha/PycharmProjects/Youtube Downloader\"\n",
    "\n",
    "link = \"https://youtu.be/8tX6nQtujQU\"\n",
    "\n",
    "try: \n",
    "    yt = YouTube(link)\n",
    "    \n",
    "except:\n",
    "    print(\"Couldnt Connect\")\n",
    "    "
   ]
  },
  {
   "cell_type": "code",
   "execution_count": 10,
   "id": "86f21869",
   "metadata": {},
   "outputs": [
    {
     "data": {
      "text/plain": [
       "'/Users/thejakamahaulpatha/PycharmProjects/Youtube Downloader/Shouldnt Matter but It Does (Live From The Tonight Show Starring Jimmy Fallon).mp4'"
      ]
     },
     "execution_count": 10,
     "metadata": {},
     "output_type": "execute_result"
    }
   ],
   "source": [
    "try:\n",
    "    \n",
    "    video = yt.streams.first()\n",
    "    video.download()\n",
    "    \n",
    "except: \n",
    "    \n",
    "    print(\"Error in Download\")"
   ]
  },
  {
   "cell_type": "code",
   "execution_count": null,
   "id": "9610812e",
   "metadata": {},
   "outputs": [],
   "source": []
  }
 ],
 "metadata": {
  "kernelspec": {
   "display_name": "Python 3",
   "language": "python",
   "name": "python3"
  },
  "language_info": {
   "codemirror_mode": {
    "name": "ipython",
    "version": 3
   },
   "file_extension": ".py",
   "mimetype": "text/x-python",
   "name": "python",
   "nbconvert_exporter": "python",
   "pygments_lexer": "ipython3",
   "version": "3.8.8"
  }
 },
 "nbformat": 4,
 "nbformat_minor": 5
}
