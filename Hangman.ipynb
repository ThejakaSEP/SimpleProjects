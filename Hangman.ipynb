{
 "cells": [
  {
   "cell_type": "code",
   "execution_count": 16,
   "id": "f677ace4",
   "metadata": {},
   "outputs": [],
   "source": [
    "import random"
   ]
  },
  {
   "cell_type": "code",
   "execution_count": 17,
   "id": "5f9cde4d",
   "metadata": {},
   "outputs": [],
   "source": [
    "wordList = [\"Ball\",\"Apple\",\"Cat\",\"Camera\",\"Broom\",\"Window\"]"
   ]
  },
  {
   "cell_type": "code",
   "execution_count": 18,
   "id": "be414a0d",
   "metadata": {},
   "outputs": [
    {
     "name": "stdout",
     "output_type": "stream",
     "text": [
      "Please enter your name: \n",
      "Hello  \n"
     ]
    }
   ],
   "source": [
    "name = input(\"Please enter your name: \")\n",
    "print(\"Hello \",name)\n",
    "\n"
   ]
  },
  {
   "cell_type": "code",
   "execution_count": 19,
   "id": "08cf1aa9",
   "metadata": {},
   "outputs": [],
   "source": [
    "randomWord = random.choice(wordList)"
   ]
  },
  {
   "cell_type": "code",
   "execution_count": 20,
   "id": "cf1b9aa7",
   "metadata": {},
   "outputs": [
    {
     "name": "stdout",
     "output_type": "stream",
     "text": [
      "Window\n"
     ]
    }
   ],
   "source": [
    "print(randomWord)"
   ]
  },
  {
   "cell_type": "code",
   "execution_count": 21,
   "id": "a953537c",
   "metadata": {},
   "outputs": [
    {
     "name": "stdout",
     "output_type": "stream",
     "text": [
      "Please enter an alphabet: z\n",
      "Please enter an alphabet: a\n",
      "Please enter an alphabet: w\n",
      "Window\n"
     ]
    }
   ],
   "source": [
    "turns = 0\n",
    "\n",
    "while turns <12:\n",
    "    alphabet = input(\"Please enter an alphabet: \")\n",
    "    \n",
    "    if alphabet in randomWord:\n",
    "        print(randomWord)\n",
    "        break"
   ]
  },
  {
   "cell_type": "code",
   "execution_count": null,
   "id": "e3393924",
   "metadata": {},
   "outputs": [],
   "source": []
  }
 ],
 "metadata": {
  "kernelspec": {
   "display_name": "Python 3",
   "language": "python",
   "name": "python3"
  },
  "language_info": {
   "codemirror_mode": {
    "name": "ipython",
    "version": 3
   },
   "file_extension": ".py",
   "mimetype": "text/x-python",
   "name": "python",
   "nbconvert_exporter": "python",
   "pygments_lexer": "ipython3",
   "version": "3.8.8"
  }
 },
 "nbformat": 4,
 "nbformat_minor": 5
}
