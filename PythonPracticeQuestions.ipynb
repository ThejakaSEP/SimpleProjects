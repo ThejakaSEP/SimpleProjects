{
 "cells": [
  {
   "cell_type": "code",
   "execution_count": 1,
   "id": "f9886923",
   "metadata": {},
   "outputs": [],
   "source": [
    "# 1) Write a program in Python to execute the Bubble sort algorithm."
   ]
  },
  {
   "cell_type": "code",
   "execution_count": 39,
   "id": "3b3b86b2",
   "metadata": {},
   "outputs": [],
   "source": [
    "myList = [32,5,3,6,7,54,87]"
   ]
  },
  {
   "cell_type": "code",
   "execution_count": 42,
   "id": "afd4b68a",
   "metadata": {},
   "outputs": [
    {
     "data": {
      "text/plain": [
       "[3, 5, 6, 7, 32, 54, 87]"
      ]
     },
     "execution_count": 42,
     "metadata": {},
     "output_type": "execute_result"
    }
   ],
   "source": [
    "def Bubble(myList):\n",
    "    a = len(myList)\n",
    "    b = 0\n",
    "    \n",
    "    while a>b:\n",
    "        \n",
    "        for i in range(a):\n",
    "      \n",
    "            if i<6:\n",
    "                if myList[i]>myList[i+1]:\n",
    "                    a1 = myList[i]\n",
    "                    myList[i] = myList[i+1]\n",
    "                    myList[i+1] = a1\n",
    "#                     myList[i],myList[i+1] = myList[i+1],myList[i]\n",
    "        \n",
    "        a-=1\n",
    "        \n",
    "    return myList\n",
    "\n",
    "Ll = Bubble(myList)\n",
    "\n",
    "Ll"
   ]
  },
  {
   "cell_type": "code",
   "execution_count": 63,
   "id": "1dd11147",
   "metadata": {},
   "outputs": [],
   "source": [
    "# 2) Print"
   ]
  },
  {
   "cell_type": "code",
   "execution_count": 61,
   "id": "d43fe32d",
   "metadata": {},
   "outputs": [
    {
     "name": "stdout",
     "output_type": "stream",
     "text": [
      "         *\n",
      "        ***\n",
      "       *****\n",
      "      *******\n",
      "     *********\n",
      "    ***********\n",
      "   *************\n",
      "  ***************\n",
      " *****************\n",
      "*******************\n"
     ]
    }
   ],
   "source": [
    "y = 10\n",
    "\n",
    "for a in range(y):\n",
    "#     print(a)\n",
    "    print(\" \"*(y-1-a),end=\"\")\n",
    "    for b in range(a*2+1):\n",
    "        print(\"*\",end=\"\")\n",
    "    print(\"\")"
   ]
  },
  {
   "cell_type": "code",
   "execution_count": 64,
   "id": "2021fd4f",
   "metadata": {},
   "outputs": [],
   "source": [
    "# 3) Print the Fibonnacci Numbers"
   ]
  },
  {
   "cell_type": "code",
   "execution_count": 67,
   "id": "f660a6c9",
   "metadata": {},
   "outputs": [
    {
     "data": {
      "text/plain": [
       "[0,\n",
       " 1,\n",
       " 1,\n",
       " 2,\n",
       " 3,\n",
       " 5,\n",
       " 8,\n",
       " 13,\n",
       " 21,\n",
       " 34,\n",
       " 55,\n",
       " 89,\n",
       " 144,\n",
       " 233,\n",
       " 377,\n",
       " 610,\n",
       " 987,\n",
       " 1597,\n",
       " 2584,\n",
       " 4181,\n",
       " 6765,\n",
       " 10946]"
      ]
     },
     "execution_count": 67,
     "metadata": {},
     "output_type": "execute_result"
    }
   ],
   "source": [
    "\n",
    "def Fibonacci(n):\n",
    "    FibList = [0,1]\n",
    "    \n",
    "    for i in range(n):\n",
    "        last = len(FibList)\n",
    "#         print(last)\n",
    "        FibList.append(FibList[last-2]+FibList[last-1])\n",
    "        \n",
    "    return FibList\n",
    "\n",
    "Fibonacci(20)"
   ]
  },
  {
   "cell_type": "code",
   "execution_count": null,
   "id": "c2402f2e",
   "metadata": {},
   "outputs": [],
   "source": []
  }
 ],
 "metadata": {
  "kernelspec": {
   "display_name": "Python 3",
   "language": "python",
   "name": "python3"
  },
  "language_info": {
   "codemirror_mode": {
    "name": "ipython",
    "version": 3
   },
   "file_extension": ".py",
   "mimetype": "text/x-python",
   "name": "python",
   "nbconvert_exporter": "python",
   "pygments_lexer": "ipython3",
   "version": "3.8.8"
  }
 },
 "nbformat": 4,
 "nbformat_minor": 5
}
