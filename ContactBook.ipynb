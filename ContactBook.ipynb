{
 "cells": [
  {
   "cell_type": "code",
   "execution_count": 3,
   "id": "6e5d9f48",
   "metadata": {},
   "outputs": [],
   "source": [
    "import tkinter"
   ]
  },
  {
   "cell_type": "code",
   "execution_count": 4,
   "id": "fb6e46e9",
   "metadata": {},
   "outputs": [
    {
     "data": {
      "text/plain": [
       "8.6"
      ]
     },
     "execution_count": 4,
     "metadata": {},
     "output_type": "execute_result"
    }
   ],
   "source": [
    "tkinter.TkVersion"
   ]
  },
  {
   "cell_type": "code",
   "execution_count": 10,
   "id": "383ceae5",
   "metadata": {},
   "outputs": [
    {
     "name": "stderr",
     "output_type": "stream",
     "text": [
      "Exception in Tkinter callback\n",
      "Traceback (most recent call last):\n",
      "  File \"/Users/thejakamahaulpatha/opt/anaconda3/lib/python3.8/tkinter/__init__.py\", line 1892, in __call__\n",
      "    return self.func(*args)\n",
      "  File \"<ipython-input-10-a95468780007>\", line 20, in view\n",
      "    Name.set(data[int(select.curselection()[0])][0])\n",
      "IndexError: tuple index out of range\n"
     ]
    }
   ],
   "source": [
    "root = tkinter.Tk()\n",
    "\n",
    "root.geometry('600x500')\n",
    "\n",
    "data = []\n",
    "\n",
    "\n",
    "def add():\n",
    "    global data\n",
    "    data.append([Name.get(),Number.get(),address.get(1.0,\"end-1c\")])\n",
    "    update_book()\n",
    "    \n",
    "# def view():\n",
    "#     Name.set(data[int(select.curselection()[0])][0])\n",
    "#     Number.set(data[int(select.curselection()(0))][1])\n",
    "#     address.delete(1.0,\"end\")\n",
    "#     address.insert(1.0,data[int(select.cureselection()[0])][2])\n",
    "\n",
    "def view():\n",
    "    Name.set(data[int(select.curselection()[0])][0])\n",
    "    Number.set(data[int(select.curselection()[0])][1])\n",
    "    address.delete(1.0,\"end\")\n",
    "    address.insert(1.0, data[int(select.curselection()[0])][2])\n",
    "\n",
    "def delete():\n",
    "    del data[int(select.curselection([0]))]\n",
    "    update_book()\n",
    "    \n",
    "def reset():\n",
    "    Name.set('')\n",
    "    Number.set('')\n",
    "    address.delete(1.0,\"end\")\n",
    "\n",
    "def update_book():\n",
    "    select.delete(0,tkinter.END)\n",
    "\n",
    "    for n,p,a in data:\n",
    "        select.insert(tkinter.END, n)\n",
    "    \n",
    "Name = tkinter.StringVar()\n",
    "Number = tkinter.StringVar()\n",
    "\n",
    "frame = tkinter.Frame()\n",
    "frame.pack(pady=5)\n",
    "\n",
    "frame1 = tkinter.Frame()\n",
    "frame1.pack()\n",
    "\n",
    "frame2 = tkinter.Frame()\n",
    "frame2.pack(pady=5)\n",
    "\n",
    "tkinter.Label(frame,text = 'Name').pack(side=tkinter.LEFT)\n",
    "tkinter.Entry(frame,textvariable=Name,width=50).pack()\n",
    "\n",
    "tkinter.Label(frame1,text='Phone Number').pack(side=tkinter.LEFT)\n",
    "tkinter.Entry(frame1,textvariable=Number,width=50).pack()\n",
    "\n",
    "tkinter.Label(frame2,text='Address').pack()\n",
    "address = tkinter.Text(frame2,width=37,height=10)\n",
    "address.pack()\n",
    "\n",
    "tkinter.Button(root,text='Add',command=add).place(x=100,y=270)\n",
    "tkinter.Button(root,text='View',command=view).place(x=100,y=310)\n",
    "tkinter.Button(root,text='Delete',command=delete).place(x=100,y=350)\n",
    "tkinter.Button(root,text=\"Reset\",command=reset).place(x=100,y=390)\n",
    "\n",
    "scroll_bar = tkinter.Scrollbar(root,orient=tkinter.VERTICAL)\n",
    "select = tkinter.Listbox(root,yscrollcommand=scroll_bar.set,height=12)\n",
    "scroll_bar.config(command=select.yview)\n",
    "scroll_bar.pack(side=tkinter.RIGHT,fill=tkinter.Y)\n",
    "select.place(x=200,y=260)\n",
    "\n",
    "root.mainloop()"
   ]
  },
  {
   "cell_type": "code",
   "execution_count": null,
   "id": "39ed006f",
   "metadata": {},
   "outputs": [],
   "source": []
  }
 ],
 "metadata": {
  "kernelspec": {
   "display_name": "Python 3",
   "language": "python",
   "name": "python3"
  },
  "language_info": {
   "codemirror_mode": {
    "name": "ipython",
    "version": 3
   },
   "file_extension": ".py",
   "mimetype": "text/x-python",
   "name": "python",
   "nbconvert_exporter": "python",
   "pygments_lexer": "ipython3",
   "version": "3.8.8"
  }
 },
 "nbformat": 4,
 "nbformat_minor": 5
}
